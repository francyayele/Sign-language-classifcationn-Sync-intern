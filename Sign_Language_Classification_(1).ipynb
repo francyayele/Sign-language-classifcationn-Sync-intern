{
  "cells": [
    {
      "cell_type": "code",
      "execution_count": 2,
      "id": "8edbf59e",
      "metadata": {
        "id": "8edbf59e"
      },
      "outputs": [],
      "source": [
        "#importing required libraries\n",
        "import pandas as pd\n",
        "import numpy as np\n",
        "import matplotlib.pyplot as plt\n",
        "import seaborn as sns\n",
        "\n",
        "import warnings\n",
        "warnings.filterwarnings('ignore')"
      ]
    },
    {
      "cell_type": "code",
      "execution_count": 36,
      "id": "b76a7fef",
      "metadata": {
        "id": "b76a7fef"
      },
      "outputs": [],
      "source": [
        "#loading dataset\n",
        "train_data= pd.read_csv('sign_mnist_train.csv')\n",
        "test_data=pd.read_csv('sign_mnist_test.csv')"
      ]
    },
    {
      "cell_type": "code",
      "execution_count": 37,
      "id": "2a9c8372",
      "metadata": {
        "colab": {
          "base_uri": "https://localhost:8080/",
          "height": 255
        },
        "id": "2a9c8372",
        "outputId": "a1262d90-ad47-4575-e3d3-83c0db566bca"
      },
      "outputs": [
        {
          "output_type": "execute_result",
          "data": {
            "text/plain": [
              "   label  pixel1  pixel2  pixel3  pixel4  pixel5  pixel6  pixel7  pixel8  \\\n",
              "0      3     107     118     127     134     139     143     146     150   \n",
              "1      6     155     157     156     156     156     157     156     158   \n",
              "2      2     187     188     188     187     187     186     187     188   \n",
              "3      2     211     211     212     212     211     210     211     210   \n",
              "4     13     164     167     170     172     176     179     180     184   \n",
              "\n",
              "   pixel9  ...  pixel775  pixel776  pixel777  pixel778  pixel779  pixel780  \\\n",
              "0     153  ...       207       207       207       207       206       206   \n",
              "1     158  ...        69       149       128        87        94       163   \n",
              "2     187  ...       202       201       200       199       198       199   \n",
              "3     210  ...       235       234       233       231       230       226   \n",
              "4     185  ...        92       105       105       108       133       163   \n",
              "\n",
              "   pixel781  pixel782  pixel783  pixel784  \n",
              "0       206       204       203       202  \n",
              "1       175       103       135       149  \n",
              "2       198       195       194       195  \n",
              "3       225       222       229       163  \n",
              "4       157       163       164       179  \n",
              "\n",
              "[5 rows x 785 columns]"
            ],
            "text/html": [
              "\n",
              "  <div id=\"df-b47a5667-c61c-4ddf-bc9d-2f90837b3733\" class=\"colab-df-container\">\n",
              "    <div>\n",
              "<style scoped>\n",
              "    .dataframe tbody tr th:only-of-type {\n",
              "        vertical-align: middle;\n",
              "    }\n",
              "\n",
              "    .dataframe tbody tr th {\n",
              "        vertical-align: top;\n",
              "    }\n",
              "\n",
              "    .dataframe thead th {\n",
              "        text-align: right;\n",
              "    }\n",
              "</style>\n",
              "<table border=\"1\" class=\"dataframe\">\n",
              "  <thead>\n",
              "    <tr style=\"text-align: right;\">\n",
              "      <th></th>\n",
              "      <th>label</th>\n",
              "      <th>pixel1</th>\n",
              "      <th>pixel2</th>\n",
              "      <th>pixel3</th>\n",
              "      <th>pixel4</th>\n",
              "      <th>pixel5</th>\n",
              "      <th>pixel6</th>\n",
              "      <th>pixel7</th>\n",
              "      <th>pixel8</th>\n",
              "      <th>pixel9</th>\n",
              "      <th>...</th>\n",
              "      <th>pixel775</th>\n",
              "      <th>pixel776</th>\n",
              "      <th>pixel777</th>\n",
              "      <th>pixel778</th>\n",
              "      <th>pixel779</th>\n",
              "      <th>pixel780</th>\n",
              "      <th>pixel781</th>\n",
              "      <th>pixel782</th>\n",
              "      <th>pixel783</th>\n",
              "      <th>pixel784</th>\n",
              "    </tr>\n",
              "  </thead>\n",
              "  <tbody>\n",
              "    <tr>\n",
              "      <th>0</th>\n",
              "      <td>3</td>\n",
              "      <td>107</td>\n",
              "      <td>118</td>\n",
              "      <td>127</td>\n",
              "      <td>134</td>\n",
              "      <td>139</td>\n",
              "      <td>143</td>\n",
              "      <td>146</td>\n",
              "      <td>150</td>\n",
              "      <td>153</td>\n",
              "      <td>...</td>\n",
              "      <td>207</td>\n",
              "      <td>207</td>\n",
              "      <td>207</td>\n",
              "      <td>207</td>\n",
              "      <td>206</td>\n",
              "      <td>206</td>\n",
              "      <td>206</td>\n",
              "      <td>204</td>\n",
              "      <td>203</td>\n",
              "      <td>202</td>\n",
              "    </tr>\n",
              "    <tr>\n",
              "      <th>1</th>\n",
              "      <td>6</td>\n",
              "      <td>155</td>\n",
              "      <td>157</td>\n",
              "      <td>156</td>\n",
              "      <td>156</td>\n",
              "      <td>156</td>\n",
              "      <td>157</td>\n",
              "      <td>156</td>\n",
              "      <td>158</td>\n",
              "      <td>158</td>\n",
              "      <td>...</td>\n",
              "      <td>69</td>\n",
              "      <td>149</td>\n",
              "      <td>128</td>\n",
              "      <td>87</td>\n",
              "      <td>94</td>\n",
              "      <td>163</td>\n",
              "      <td>175</td>\n",
              "      <td>103</td>\n",
              "      <td>135</td>\n",
              "      <td>149</td>\n",
              "    </tr>\n",
              "    <tr>\n",
              "      <th>2</th>\n",
              "      <td>2</td>\n",
              "      <td>187</td>\n",
              "      <td>188</td>\n",
              "      <td>188</td>\n",
              "      <td>187</td>\n",
              "      <td>187</td>\n",
              "      <td>186</td>\n",
              "      <td>187</td>\n",
              "      <td>188</td>\n",
              "      <td>187</td>\n",
              "      <td>...</td>\n",
              "      <td>202</td>\n",
              "      <td>201</td>\n",
              "      <td>200</td>\n",
              "      <td>199</td>\n",
              "      <td>198</td>\n",
              "      <td>199</td>\n",
              "      <td>198</td>\n",
              "      <td>195</td>\n",
              "      <td>194</td>\n",
              "      <td>195</td>\n",
              "    </tr>\n",
              "    <tr>\n",
              "      <th>3</th>\n",
              "      <td>2</td>\n",
              "      <td>211</td>\n",
              "      <td>211</td>\n",
              "      <td>212</td>\n",
              "      <td>212</td>\n",
              "      <td>211</td>\n",
              "      <td>210</td>\n",
              "      <td>211</td>\n",
              "      <td>210</td>\n",
              "      <td>210</td>\n",
              "      <td>...</td>\n",
              "      <td>235</td>\n",
              "      <td>234</td>\n",
              "      <td>233</td>\n",
              "      <td>231</td>\n",
              "      <td>230</td>\n",
              "      <td>226</td>\n",
              "      <td>225</td>\n",
              "      <td>222</td>\n",
              "      <td>229</td>\n",
              "      <td>163</td>\n",
              "    </tr>\n",
              "    <tr>\n",
              "      <th>4</th>\n",
              "      <td>13</td>\n",
              "      <td>164</td>\n",
              "      <td>167</td>\n",
              "      <td>170</td>\n",
              "      <td>172</td>\n",
              "      <td>176</td>\n",
              "      <td>179</td>\n",
              "      <td>180</td>\n",
              "      <td>184</td>\n",
              "      <td>185</td>\n",
              "      <td>...</td>\n",
              "      <td>92</td>\n",
              "      <td>105</td>\n",
              "      <td>105</td>\n",
              "      <td>108</td>\n",
              "      <td>133</td>\n",
              "      <td>163</td>\n",
              "      <td>157</td>\n",
              "      <td>163</td>\n",
              "      <td>164</td>\n",
              "      <td>179</td>\n",
              "    </tr>\n",
              "  </tbody>\n",
              "</table>\n",
              "<p>5 rows × 785 columns</p>\n",
              "</div>\n",
              "    <div class=\"colab-df-buttons\">\n",
              "\n",
              "  <div class=\"colab-df-container\">\n",
              "    <button class=\"colab-df-convert\" onclick=\"convertToInteractive('df-b47a5667-c61c-4ddf-bc9d-2f90837b3733')\"\n",
              "            title=\"Convert this dataframe to an interactive table.\"\n",
              "            style=\"display:none;\">\n",
              "\n",
              "  <svg xmlns=\"http://www.w3.org/2000/svg\" height=\"24px\" viewBox=\"0 -960 960 960\">\n",
              "    <path d=\"M120-120v-720h720v720H120Zm60-500h600v-160H180v160Zm220 220h160v-160H400v160Zm0 220h160v-160H400v160ZM180-400h160v-160H180v160Zm440 0h160v-160H620v160ZM180-180h160v-160H180v160Zm440 0h160v-160H620v160Z\"/>\n",
              "  </svg>\n",
              "    </button>\n",
              "\n",
              "  <style>\n",
              "    .colab-df-container {\n",
              "      display:flex;\n",
              "      gap: 12px;\n",
              "    }\n",
              "\n",
              "    .colab-df-convert {\n",
              "      background-color: #E8F0FE;\n",
              "      border: none;\n",
              "      border-radius: 50%;\n",
              "      cursor: pointer;\n",
              "      display: none;\n",
              "      fill: #1967D2;\n",
              "      height: 32px;\n",
              "      padding: 0 0 0 0;\n",
              "      width: 32px;\n",
              "    }\n",
              "\n",
              "    .colab-df-convert:hover {\n",
              "      background-color: #E2EBFA;\n",
              "      box-shadow: 0px 1px 2px rgba(60, 64, 67, 0.3), 0px 1px 3px 1px rgba(60, 64, 67, 0.15);\n",
              "      fill: #174EA6;\n",
              "    }\n",
              "\n",
              "    .colab-df-buttons div {\n",
              "      margin-bottom: 4px;\n",
              "    }\n",
              "\n",
              "    [theme=dark] .colab-df-convert {\n",
              "      background-color: #3B4455;\n",
              "      fill: #D2E3FC;\n",
              "    }\n",
              "\n",
              "    [theme=dark] .colab-df-convert:hover {\n",
              "      background-color: #434B5C;\n",
              "      box-shadow: 0px 1px 3px 1px rgba(0, 0, 0, 0.15);\n",
              "      filter: drop-shadow(0px 1px 2px rgba(0, 0, 0, 0.3));\n",
              "      fill: #FFFFFF;\n",
              "    }\n",
              "  </style>\n",
              "\n",
              "    <script>\n",
              "      const buttonEl =\n",
              "        document.querySelector('#df-b47a5667-c61c-4ddf-bc9d-2f90837b3733 button.colab-df-convert');\n",
              "      buttonEl.style.display =\n",
              "        google.colab.kernel.accessAllowed ? 'block' : 'none';\n",
              "\n",
              "      async function convertToInteractive(key) {\n",
              "        const element = document.querySelector('#df-b47a5667-c61c-4ddf-bc9d-2f90837b3733');\n",
              "        const dataTable =\n",
              "          await google.colab.kernel.invokeFunction('convertToInteractive',\n",
              "                                                    [key], {});\n",
              "        if (!dataTable) return;\n",
              "\n",
              "        const docLinkHtml = 'Like what you see? Visit the ' +\n",
              "          '<a target=\"_blank\" href=https://colab.research.google.com/notebooks/data_table.ipynb>data table notebook</a>'\n",
              "          + ' to learn more about interactive tables.';\n",
              "        element.innerHTML = '';\n",
              "        dataTable['output_type'] = 'display_data';\n",
              "        await google.colab.output.renderOutput(dataTable, element);\n",
              "        const docLink = document.createElement('div');\n",
              "        docLink.innerHTML = docLinkHtml;\n",
              "        element.appendChild(docLink);\n",
              "      }\n",
              "    </script>\n",
              "  </div>\n",
              "\n",
              "\n",
              "<div id=\"df-5a6c2712-0951-4f43-88b7-d135c78cbb2d\">\n",
              "  <button class=\"colab-df-quickchart\" onclick=\"quickchart('df-5a6c2712-0951-4f43-88b7-d135c78cbb2d')\"\n",
              "            title=\"Suggest charts.\"\n",
              "            style=\"display:none;\">\n",
              "\n",
              "<svg xmlns=\"http://www.w3.org/2000/svg\" height=\"24px\"viewBox=\"0 0 24 24\"\n",
              "     width=\"24px\">\n",
              "    <g>\n",
              "        <path d=\"M19 3H5c-1.1 0-2 .9-2 2v14c0 1.1.9 2 2 2h14c1.1 0 2-.9 2-2V5c0-1.1-.9-2-2-2zM9 17H7v-7h2v7zm4 0h-2V7h2v10zm4 0h-2v-4h2v4z\"/>\n",
              "    </g>\n",
              "</svg>\n",
              "  </button>\n",
              "\n",
              "<style>\n",
              "  .colab-df-quickchart {\n",
              "    background-color: #E8F0FE;\n",
              "    border: none;\n",
              "    border-radius: 50%;\n",
              "    cursor: pointer;\n",
              "    display: none;\n",
              "    fill: #1967D2;\n",
              "    height: 32px;\n",
              "    padding: 0 0 0 0;\n",
              "    width: 32px;\n",
              "  }\n",
              "\n",
              "  .colab-df-quickchart:hover {\n",
              "    background-color: #E2EBFA;\n",
              "    box-shadow: 0px 1px 2px rgba(60, 64, 67, 0.3), 0px 1px 3px 1px rgba(60, 64, 67, 0.15);\n",
              "    fill: #174EA6;\n",
              "  }\n",
              "\n",
              "  [theme=dark] .colab-df-quickchart {\n",
              "    background-color: #3B4455;\n",
              "    fill: #D2E3FC;\n",
              "  }\n",
              "\n",
              "  [theme=dark] .colab-df-quickchart:hover {\n",
              "    background-color: #434B5C;\n",
              "    box-shadow: 0px 1px 3px 1px rgba(0, 0, 0, 0.15);\n",
              "    filter: drop-shadow(0px 1px 2px rgba(0, 0, 0, 0.3));\n",
              "    fill: #FFFFFF;\n",
              "  }\n",
              "</style>\n",
              "\n",
              "  <script>\n",
              "    async function quickchart(key) {\n",
              "      const charts = await google.colab.kernel.invokeFunction(\n",
              "          'suggestCharts', [key], {});\n",
              "    }\n",
              "    (() => {\n",
              "      let quickchartButtonEl =\n",
              "        document.querySelector('#df-5a6c2712-0951-4f43-88b7-d135c78cbb2d button');\n",
              "      quickchartButtonEl.style.display =\n",
              "        google.colab.kernel.accessAllowed ? 'block' : 'none';\n",
              "    })();\n",
              "  </script>\n",
              "</div>\n",
              "    </div>\n",
              "  </div>\n"
            ]
          },
          "metadata": {},
          "execution_count": 37
        }
      ],
      "source": [
        "train_data.head()"
      ]
    },
    {
      "cell_type": "code",
      "execution_count": 38,
      "id": "6fa0475a",
      "metadata": {
        "colab": {
          "base_uri": "https://localhost:8080/"
        },
        "id": "6fa0475a",
        "outputId": "14d5126b-e655-4143-a6c7-fd09ea1ebbf9"
      },
      "outputs": [
        {
          "output_type": "execute_result",
          "data": {
            "text/plain": [
              "(27455, 785)"
            ]
          },
          "metadata": {},
          "execution_count": 38
        }
      ],
      "source": [
        "train_data.shape"
      ]
    },
    {
      "cell_type": "markdown",
      "id": "3ba5c458",
      "metadata": {
        "id": "3ba5c458"
      },
      "source": [
        "#### The above data set is given in the form of labels and pixel value ranging from pixel 1 to pixel 784 which is 28 * 28 image."
      ]
    },
    {
      "cell_type": "code",
      "execution_count": 39,
      "id": "0456642a",
      "metadata": {
        "colab": {
          "base_uri": "https://localhost:8080/"
        },
        "id": "0456642a",
        "outputId": "a3ebd167-19a6-4770-aa1b-dc7773983178"
      },
      "outputs": [
        {
          "output_type": "execute_result",
          "data": {
            "text/plain": [
              "array([ 3,  6,  2, ..., 18, 17, 23])"
            ]
          },
          "metadata": {},
          "execution_count": 39
        }
      ],
      "source": [
        "labels=train_data['label'].values\n",
        "labels"
      ]
    },
    {
      "cell_type": "code",
      "execution_count": 40,
      "id": "1a898050",
      "metadata": {
        "colab": {
          "base_uri": "https://localhost:8080/"
        },
        "id": "1a898050",
        "outputId": "373c3f40-9da4-40a1-9559-f369c1bcdb11"
      },
      "outputs": [
        {
          "output_type": "execute_result",
          "data": {
            "text/plain": [
              "array([ 0,  1,  2,  3,  4,  5,  6,  7,  8, 10, 11, 12, 13, 14, 15, 16, 17,\n",
              "       18, 19, 20, 21, 22, 23, 24])"
            ]
          },
          "metadata": {},
          "execution_count": 40
        }
      ],
      "source": [
        "np.unique(labels)"
      ]
    },
    {
      "cell_type": "code",
      "execution_count": 41,
      "id": "c6a29fde",
      "metadata": {
        "colab": {
          "base_uri": "https://localhost:8080/",
          "height": 743
        },
        "id": "c6a29fde",
        "outputId": "b105f3e5-504a-4a37-ef06-063f94a4dad3"
      },
      "outputs": [
        {
          "output_type": "display_data",
          "data": {
            "text/plain": [
              "<Figure size 1500x1000 with 1 Axes>"
            ],
            "image/png": "[encoded data removed]"
          },
          "metadata": {}
        }
      ],
      "source": [
        "#showing the number of observations in each category\n",
        "plt.figure(figsize=(15,10))\n",
        "sns.countplot(x=labels)\n",
        "plt.show()"
      ]
    },
    {
      "cell_type": "markdown",
      "id": "b5770a5f",
      "metadata": {
        "id": "b5770a5f"
      },
      "source": [
        "#### Each label is almost equally distributed, so we have no need to resample the dataset."
      ]
    },
    {
      "cell_type": "code",
      "execution_count": 42,
      "id": "94dcfe04",
      "metadata": {
        "id": "94dcfe04"
      },
      "outputs": [],
      "source": [
        "#dropping the label column from the training dataset\n",
        "sign_images=train_data.drop('label', axis=1, inplace=True)"
      ]
    },
    {
      "cell_type": "code",
      "execution_count": 43,
      "id": "171e0c6e",
      "metadata": {
        "id": "171e0c6e"
      },
      "outputs": [],
      "source": [
        "#reshaping the images\n",
        "images=train_data.values\n",
        "images=np.array([np.reshape(i, (28,28)) for i in images])\n",
        "images=np.array([i.flatten() for i in images])"
      ]
    },
    {
      "cell_type": "code",
      "execution_count": 44,
      "id": "733017c7",
      "metadata": {
        "id": "733017c7"
      },
      "outputs": [],
      "source": [
        "#reshaping the target variable\n",
        "from sklearn.preprocessing import LabelBinarizer\n",
        "\n",
        "lb=LabelBinarizer()\n",
        "labels=lb.fit_transform(labels)"
      ]
    },
    {
      "cell_type": "code",
      "execution_count": 45,
      "id": "9576830f",
      "metadata": {
        "colab": {
          "base_uri": "https://localhost:8080/"
        },
        "id": "9576830f",
        "outputId": "0c50b470-2cca-4ce8-c7d1-4d36f96e9eff"
      },
      "outputs": [
        {
          "output_type": "execute_result",
          "data": {
            "text/plain": [
              "array([[0, 0, 0, ..., 0, 0, 0],\n",
              "       [0, 0, 0, ..., 0, 0, 0],\n",
              "       [0, 0, 1, ..., 0, 0, 0],\n",
              "       ...,\n",
              "       [0, 0, 0, ..., 0, 0, 0],\n",
              "       [0, 0, 0, ..., 0, 0, 0],\n",
              "       [0, 0, 0, ..., 0, 1, 0]])"
            ]
          },
          "metadata": {},
          "execution_count": 45
        }
      ],
      "source": [
        "labels"
      ]
    },
    {
      "cell_type": "code",
      "execution_count": 46,
      "id": "fd54e934",
      "metadata": {
        "colab": {
          "base_uri": "https://localhost:8080/",
          "height": 448
        },
        "id": "fd54e934",
        "outputId": "0a51642c-f936-4c64-ef0e-3e5ed29c5ea7"
      },
      "outputs": [
        {
          "output_type": "execute_result",
          "data": {
            "text/plain": [
              "<matplotlib.image.AxesImage at 0x782758696c50>"
            ]
          },
          "metadata": {},
          "execution_count": 46
        },
        {
          "output_type": "display_data",
          "data": {
            "text/plain": [
              "<Figure size 640x480 with 1 Axes>"
            ],
            "image/png": "[encoded data removed]"
          },
          "metadata": {}
        }
      ],
      "source": [
        "plt.imshow(images[0].reshape(28,28))"
      ]
    },
    {
      "cell_type": "code",
      "execution_count": 47,
      "id": "7159c363",
      "metadata": {
        "id": "7159c363"
      },
      "outputs": [],
      "source": [
        "#spliting the training dataset into two parts--tarin and test\n",
        "from sklearn.model_selection import train_test_split as tts\n",
        "\n",
        "x_train, x_test, y_train, y_test=tts(images, labels, test_size=0.3, random_state=100)"
      ]
    },
    {
      "cell_type": "code",
      "execution_count": 48,
      "id": "81ee30da",
      "metadata": {
        "colab": {
          "base_uri": "https://localhost:8080/"
        },
        "id": "81ee30da",
        "outputId": "7537f0e7-6caa-41fb-da77-7390c71e6dd9"
      },
      "outputs": [
        {
          "output_type": "stream",
          "name": "stdout",
          "text": [
            "(19218, 784)\n",
            "(8237, 784)\n"
          ]
        }
      ],
      "source": [
        "print(x_train.shape)\n",
        "print(x_test.shape)"
      ]
    },
    {
      "cell_type": "code",
      "execution_count": 49,
      "id": "522d43db",
      "metadata": {
        "id": "522d43db"
      },
      "outputs": [],
      "source": [
        "#scale our images\n",
        "x_train=x_train/255\n",
        "x_test=x_test/255"
      ]
    },
    {
      "cell_type": "code",
      "execution_count": 50,
      "id": "22b4e8c3",
      "metadata": {
        "colab": {
          "base_uri": "https://localhost:8080/",
          "height": 430
        },
        "id": "22b4e8c3",
        "outputId": "2620910e-f62c-414a-fa17-418dc5f4d7e6"
      },
      "outputs": [
        {
          "output_type": "display_data",
          "data": {
            "text/plain": [
              "<Figure size 640x480 with 1 Axes>"
            ],
            "image/png": "[encoded data removed]"
          },
          "metadata": {}
        }
      ],
      "source": [
        "x_train=x_train.reshape(x_train.shape[0], 28, 28, 1)\n",
        "x_test=x_test.reshape(x_test.shape[0], 28, 28, 1)\n",
        "\n",
        "#Visualizing the image after normalizing\n",
        "plt.imshow(x_train[0].reshape(28, 28))\n",
        "plt.show()"
      ]
    },
    {
      "cell_type": "markdown",
      "id": "78e35971",
      "metadata": {
        "id": "78e35971"
      },
      "source": [
        "### Implementation of CNN model"
      ]
    },
    {
      "cell_type": "code",
      "execution_count": 51,
      "id": "e588e4ca",
      "metadata": {
        "id": "e588e4ca"
      },
      "outputs": [],
      "source": [
        "from tensorflow.keras.models import Sequential\n",
        "from tensorflow.keras.layers import Dense, Conv2D, MaxPooling2D, Flatten, Dropout"
      ]
    },
    {
      "cell_type": "code",
      "execution_count": 52,
      "id": "32e07c2f",
      "metadata": {
        "id": "32e07c2f"
      },
      "outputs": [],
      "source": [
        "#hyperparameters\n",
        "batch_size=128\n",
        "num_classes=24\n",
        "epochs=50"
      ]
    },
    {
      "cell_type": "code",
      "execution_count": 53,
      "id": "afea72a7",
      "metadata": {
        "id": "afea72a7"
      },
      "outputs": [],
      "source": [
        "from tensorflow.keras import backend as K\n",
        "from tensorflow.keras.optimizers import Adam\n",
        "\n",
        "\n",
        "model=Sequential()\n",
        "model.add(Conv2D(64, kernel_size=(3,3), activation='relu', input_shape=(28, 28, 1)))\n",
        "model.add(MaxPooling2D(pool_size=(2, 2)))\n",
        "\n",
        "model.add(Conv2D(64, kernel_size=(3,3), activation='relu'))\n",
        "model.add(MaxPooling2D(pool_size=(2, 2)))\n",
        "\n",
        "model.add(Conv2D(64, kernel_size=(3,3), activation='relu'))\n",
        "model.add(MaxPooling2D(pool_size=(2, 2)))\n",
        "\n",
        "model.add(Flatten())\n",
        "model.add(Dense(128, activation='relu'))\n",
        "model.add(Dropout(0.20))\n",
        "\n",
        "model.add(Dense(num_classes, activation='softmax'))"
      ]
    },
    {
      "cell_type": "code",
      "execution_count": 54,
      "id": "25814317",
      "metadata": {
        "id": "25814317"
      },
      "outputs": [],
      "source": [
        "model.compile(loss='categorical_crossentropy',\n",
        "              optimizer=Adam(),\n",
        "              metrics=['accuracy'])"
      ]
    },
    {
      "cell_type": "code",
      "execution_count": 55,
      "id": "082a5c6b",
      "metadata": {
        "colab": {
          "base_uri": "https://localhost:8080/"
        },
        "id": "082a5c6b",
        "outputId": "1ab1d3fc-70c1-47b7-f563-3a5991b6e5e1"
      },
      "outputs": [
        {
          "output_type": "stream",
          "name": "stdout",
          "text": [
            "Model: \"sequential_1\"\n",
            "_________________________________________________________________\n",
            " Layer (type)                Output Shape              Param #   \n",
            "=================================================================\n",
            " conv2d_3 (Conv2D)           (None, 26, 26, 64)        640       \n",
            "                                                                 \n",
            " max_pooling2d_3 (MaxPooling  (None, 13, 13, 64)       0         \n",
            " 2D)                                                             \n",
            "                                                                 \n",
            " conv2d_4 (Conv2D)           (None, 11, 11, 64)        36928     \n",
            "                                                                 \n",
            " max_pooling2d_4 (MaxPooling  (None, 5, 5, 64)         0         \n",
            " 2D)                                                             \n",
            "                                                                 \n",
            " conv2d_5 (Conv2D)           (None, 3, 3, 64)          36928     \n",
            "                                                                 \n",
            " max_pooling2d_5 (MaxPooling  (None, 1, 1, 64)         0         \n",
            " 2D)                                                             \n",
            "                                                                 \n",
            " flatten_1 (Flatten)         (None, 64)                0         \n",
            "                                                                 \n",
            " dense_2 (Dense)             (None, 128)               8320      \n",
            "                                                                 \n",
            " dropout_1 (Dropout)         (None, 128)               0         \n",
            "                                                                 \n",
            " dense_3 (Dense)             (None, 24)                3096      \n",
            "                                                                 \n",
            "=================================================================\n",
            "Total params: 85,912\n",
            "Trainable params: 85,912\n",
            "Non-trainable params: 0\n",
            "_________________________________________________________________\n",
            "None\n"
          ]
        }
      ],
      "source": [
        "print(model.summary())"
      ]
    },
    {
      "cell_type": "code",
      "execution_count": 56,
      "id": "51bbe116",
      "metadata": {
        "colab": {
          "base_uri": "https://localhost:8080/"
        },
        "id": "51bbe116",
        "outputId": "a6472231-e704-4609-ae64-8c3402dea654"
      },
      "outputs": [
        {
          "output_type": "stream",
          "name": "stdout",
          "text": [
            "Epoch 1/50\n",
            "151/151 [==============================] - 32s 202ms/step - loss: 2.5022 - accuracy: 0.2361 - val_loss: 1.4272 - val_accuracy: 0.5689\n",
            "Epoch 2/50\n",
            "151/151 [==============================] - 29s 195ms/step - loss: 1.1379 - accuracy: 0.6162 - val_loss: 0.7080 - val_accuracy: 0.7690\n",
            "Epoch 3/50\n",
            "151/151 [==============================] - 30s 196ms/step - loss: 0.6916 - accuracy: 0.7614 - val_loss: 0.4457 - val_accuracy: 0.8637\n",
            "Epoch 4/50\n",
            "151/151 [==============================] - 30s 201ms/step - loss: 0.4665 - accuracy: 0.8404 - val_loss: 0.2908 - val_accuracy: 0.9165\n",
            "Epoch 5/50\n",
            "151/151 [==============================] - 29s 195ms/step - loss: 0.3089 - accuracy: 0.8967 - val_loss: 0.2021 - val_accuracy: 0.9352\n",
            "Epoch 6/50\n",
            "151/151 [==============================] - 29s 194ms/step - loss: 0.2087 - accuracy: 0.9319 - val_loss: 0.1075 - val_accuracy: 0.9724\n",
            "Epoch 7/50\n",
            "151/151 [==============================] - 30s 202ms/step - loss: 0.1420 - accuracy: 0.9570 - val_loss: 0.0700 - val_accuracy: 0.9860\n",
            "Epoch 8/50\n",
            "151/151 [==============================] - 31s 207ms/step - loss: 0.0993 - accuracy: 0.9692 - val_loss: 0.0366 - val_accuracy: 0.9962\n",
            "Epoch 9/50\n",
            "151/151 [==============================] - 30s 197ms/step - loss: 0.0686 - accuracy: 0.9822 - val_loss: 0.0260 - val_accuracy: 0.9976\n",
            "Epoch 10/50\n",
            "151/151 [==============================] - 31s 204ms/step - loss: 0.0558 - accuracy: 0.9858 - val_loss: 0.0160 - val_accuracy: 0.9994\n",
            "Epoch 11/50\n",
            "151/151 [==============================] - 30s 197ms/step - loss: 0.0435 - accuracy: 0.9888 - val_loss: 0.0099 - val_accuracy: 0.9996\n",
            "Epoch 12/50\n",
            "151/151 [==============================] - 30s 198ms/step - loss: 0.0312 - accuracy: 0.9931 - val_loss: 0.0111 - val_accuracy: 0.9987\n",
            "Epoch 13/50\n",
            "151/151 [==============================] - 31s 205ms/step - loss: 0.0279 - accuracy: 0.9931 - val_loss: 0.0081 - val_accuracy: 0.9993\n",
            "Epoch 14/50\n",
            "151/151 [==============================] - 30s 197ms/step - loss: 0.0214 - accuracy: 0.9954 - val_loss: 0.0070 - val_accuracy: 0.9993\n",
            "Epoch 15/50\n",
            "151/151 [==============================] - 30s 196ms/step - loss: 0.0205 - accuracy: 0.9954 - val_loss: 0.0058 - val_accuracy: 0.9995\n",
            "Epoch 16/50\n",
            "151/151 [==============================] - 31s 204ms/step - loss: 0.0196 - accuracy: 0.9948 - val_loss: 0.0068 - val_accuracy: 0.9990\n",
            "Epoch 17/50\n",
            "151/151 [==============================] - 31s 205ms/step - loss: 0.0168 - accuracy: 0.9958 - val_loss: 0.0041 - val_accuracy: 0.9998\n",
            "Epoch 18/50\n",
            "151/151 [==============================] - 30s 197ms/step - loss: 0.0152 - accuracy: 0.9964 - val_loss: 0.0018 - val_accuracy: 1.0000\n",
            "Epoch 19/50\n",
            "151/151 [==============================] - 31s 204ms/step - loss: 0.0190 - accuracy: 0.9945 - val_loss: 0.0095 - val_accuracy: 0.9977\n",
            "Epoch 20/50\n",
            "151/151 [==============================] - 30s 197ms/step - loss: 0.0149 - accuracy: 0.9959 - val_loss: 0.0020 - val_accuracy: 0.9999\n",
            "Epoch 21/50\n",
            "151/151 [==============================] - 29s 194ms/step - loss: 0.0132 - accuracy: 0.9963 - val_loss: 0.0017 - val_accuracy: 0.9999\n",
            "Epoch 22/50\n",
            "151/151 [==============================] - 31s 204ms/step - loss: 0.0079 - accuracy: 0.9980 - val_loss: 0.0013 - val_accuracy: 1.0000\n",
            "Epoch 23/50\n",
            "151/151 [==============================] - 30s 197ms/step - loss: 0.0082 - accuracy: 0.9981 - val_loss: 0.0014 - val_accuracy: 0.9996\n",
            "Epoch 24/50\n",
            "151/151 [==============================] - 30s 196ms/step - loss: 0.0092 - accuracy: 0.9975 - val_loss: 0.0030 - val_accuracy: 0.9998\n",
            "Epoch 25/50\n",
            "151/151 [==============================] - 32s 213ms/step - loss: 0.0184 - accuracy: 0.9944 - val_loss: 0.0013 - val_accuracy: 0.9999\n",
            "Epoch 26/50\n",
            "151/151 [==============================] - 30s 196ms/step - loss: 0.0057 - accuracy: 0.9988 - val_loss: 9.8012e-04 - val_accuracy: 0.9999\n",
            "Epoch 27/50\n",
            "151/151 [==============================] - 32s 214ms/step - loss: 0.0137 - accuracy: 0.9957 - val_loss: 8.7203e-04 - val_accuracy: 0.9999\n",
            "Epoch 28/50\n",
            "151/151 [==============================] - 30s 197ms/step - loss: 0.0063 - accuracy: 0.9982 - val_loss: 8.4868e-04 - val_accuracy: 1.0000\n",
            "Epoch 29/50\n",
            "151/151 [==============================] - 30s 196ms/step - loss: 0.0040 - accuracy: 0.9992 - val_loss: 0.0011 - val_accuracy: 0.9998\n",
            "Epoch 30/50\n",
            "151/151 [==============================] - 31s 204ms/step - loss: 0.0040 - accuracy: 0.9989 - val_loss: 5.3326e-04 - val_accuracy: 0.9999\n",
            "Epoch 31/50\n",
            "151/151 [==============================] - 29s 195ms/step - loss: 0.0079 - accuracy: 0.9979 - val_loss: 0.0113 - val_accuracy: 0.9959\n",
            "Epoch 32/50\n",
            "151/151 [==============================] - 29s 195ms/step - loss: 0.0095 - accuracy: 0.9972 - val_loss: 0.0052 - val_accuracy: 0.9982\n",
            "Epoch 33/50\n",
            "151/151 [==============================] - 31s 203ms/step - loss: 0.0133 - accuracy: 0.9958 - val_loss: 0.0012 - val_accuracy: 1.0000\n",
            "Epoch 34/50\n",
            "151/151 [==============================] - 31s 206ms/step - loss: 0.0054 - accuracy: 0.9985 - val_loss: 1.9861e-04 - val_accuracy: 1.0000\n",
            "Epoch 35/50\n",
            "151/151 [==============================] - 30s 197ms/step - loss: 0.0022 - accuracy: 0.9995 - val_loss: 1.2675e-04 - val_accuracy: 1.0000\n",
            "Epoch 36/50\n",
            "151/151 [==============================] - 31s 204ms/step - loss: 0.0021 - accuracy: 0.9996 - val_loss: 5.6792e-05 - val_accuracy: 1.0000\n",
            "Epoch 37/50\n",
            "151/151 [==============================] - 30s 197ms/step - loss: 0.0018 - accuracy: 0.9995 - val_loss: 6.0934e-04 - val_accuracy: 1.0000\n",
            "Epoch 38/50\n",
            "151/151 [==============================] - 30s 197ms/step - loss: 0.0135 - accuracy: 0.9957 - val_loss: 8.4365e-04 - val_accuracy: 1.0000\n",
            "Epoch 39/50\n",
            "151/151 [==============================] - 32s 214ms/step - loss: 0.0051 - accuracy: 0.9985 - val_loss: 6.4115e-04 - val_accuracy: 1.0000\n",
            "Epoch 40/50\n",
            "151/151 [==============================] - 30s 197ms/step - loss: 0.0038 - accuracy: 0.9989 - val_loss: 0.0011 - val_accuracy: 0.9999\n",
            "Epoch 41/50\n",
            "151/151 [==============================] - 30s 196ms/step - loss: 0.0053 - accuracy: 0.9985 - val_loss: 0.0026 - val_accuracy: 0.9993\n",
            "Epoch 42/50\n",
            "151/151 [==============================] - 30s 200ms/step - loss: 0.0092 - accuracy: 0.9973 - val_loss: 0.0016 - val_accuracy: 0.9998\n",
            "Epoch 43/50\n",
            "151/151 [==============================] - 31s 205ms/step - loss: 0.0073 - accuracy: 0.9978 - val_loss: 0.0025 - val_accuracy: 0.9998\n",
            "Epoch 44/50\n",
            "151/151 [==============================] - 32s 214ms/step - loss: 0.0063 - accuracy: 0.9984 - val_loss: 3.0538e-04 - val_accuracy: 1.0000\n",
            "Epoch 45/50\n",
            "151/151 [==============================] - 29s 195ms/step - loss: 0.0018 - accuracy: 0.9995 - val_loss: 7.6288e-05 - val_accuracy: 1.0000\n",
            "Epoch 46/50\n",
            "151/151 [==============================] - 29s 195ms/step - loss: 0.0017 - accuracy: 0.9996 - val_loss: 3.6804e-04 - val_accuracy: 1.0000\n",
            "Epoch 47/50\n",
            "151/151 [==============================] - 33s 216ms/step - loss: 0.0018 - accuracy: 0.9996 - val_loss: 9.3652e-04 - val_accuracy: 0.9996\n",
            "Epoch 48/50\n",
            "151/151 [==============================] - 30s 198ms/step - loss: 0.0077 - accuracy: 0.9977 - val_loss: 6.0913e-04 - val_accuracy: 1.0000\n",
            "Epoch 49/50\n",
            "151/151 [==============================] - 30s 198ms/step - loss: 0.0039 - accuracy: 0.9989 - val_loss: 0.0039 - val_accuracy: 0.9992\n",
            "Epoch 50/50\n",
            "151/151 [==============================] - 31s 203ms/step - loss: 0.0042 - accuracy: 0.9986 - val_loss: 6.7856e-04 - val_accuracy: 0.9999\n"
          ]
        }
      ],
      "source": [
        "#train the model\n",
        "history=model.fit(x_train, y_train, validation_data=(x_test, y_test), epochs= epochs, batch_size=batch_size)"
      ]
    },
    {
      "cell_type": "code",
      "execution_count": 57,
      "id": "c1c891ce",
      "metadata": {
        "colab": {
          "base_uri": "https://localhost:8080/",
          "height": 472
        },
        "id": "c1c891ce",
        "outputId": "0c857be9-ef8c-41b1-8130-eeea80f66e10"
      },
      "outputs": [
        {
          "output_type": "display_data",
          "data": {
            "text/plain": [
              "<Figure size 640x480 with 1 Axes>"
            ],
            "image/png": "[encoded data removed]"
          },
          "metadata": {}
        }
      ],
      "source": [
        "plt.plot(history.history['accuracy'])\n",
        "plt.plot(history.history['val_accuracy'])\n",
        "plt.title('Accuracy_plot')\n",
        "plt.xlabel('Epochs')\n",
        "plt.ylabel('Accuracy')\n",
        "plt.legend(['train', 'test'])\n",
        "\n",
        "plt.show()"
      ]
    },
    {
      "cell_type": "markdown",
      "id": "f724dd57",
      "metadata": {
        "id": "f724dd57"
      },
      "source": [
        "#### As the number of epochs increase, accuracy also increases."
      ]
    },
    {
      "cell_type": "markdown",
      "id": "795cfc40",
      "metadata": {
        "id": "795cfc40"
      },
      "source": [
        "#### Now let's validate with the test data"
      ]
    },
    {
      "cell_type": "code",
      "execution_count": 58,
      "id": "3a8a9c9c",
      "metadata": {
        "id": "3a8a9c9c"
      },
      "outputs": [],
      "source": [
        "test_labels=test_data['label']\n",
        "test_data.drop('label', axis=1, inplace=True)"
      ]
    },
    {
      "cell_type": "code",
      "execution_count": 59,
      "id": "e4d4a1a1",
      "metadata": {
        "colab": {
          "base_uri": "https://localhost:8080/"
        },
        "id": "e4d4a1a1",
        "outputId": "0de43bc5-5dd3-40f9-d685-a031d1a6cbd1"
      },
      "outputs": [
        {
          "output_type": "execute_result",
          "data": {
            "text/plain": [
              "(7172, 28, 28, 1)"
            ]
          },
          "metadata": {},
          "execution_count": 59
        }
      ],
      "source": [
        "test_images=test_data.values\n",
        "test_images=np.array([np.reshape(i, (28, 28)) for i in test_images])\n",
        "test_images=np.array([i.flatten() for i in test_images])\n",
        "\n",
        "test_labels=lb.fit_transform(test_labels)\n",
        "\n",
        "test_images=test_images.reshape(test_images.shape[0], 28, 28, 1)\n",
        "\n",
        "test_images.shape"
      ]
    },
    {
      "cell_type": "code",
      "execution_count": 60,
      "id": "24690f85",
      "metadata": {
        "colab": {
          "base_uri": "https://localhost:8080/"
        },
        "id": "24690f85",
        "outputId": "acb93b24-a5f5-45c2-ee53-5cc0adadc2e7"
      },
      "outputs": [
        {
          "output_type": "execute_result",
          "data": {
            "text/plain": [
              "(7172, 24)"
            ]
          },
          "metadata": {},
          "execution_count": 60
        }
      ],
      "source": [
        "test_labels.shape"
      ]
    },
    {
      "cell_type": "code",
      "execution_count": 61,
      "id": "2ffe4d8c",
      "metadata": {
        "colab": {
          "base_uri": "https://localhost:8080/"
        },
        "id": "2ffe4d8c",
        "outputId": "055d22ea-13a5-40a9-f981-c60ef4cb714d"
      },
      "outputs": [
        {
          "output_type": "stream",
          "name": "stdout",
          "text": [
            "225/225 [==============================] - 3s 12ms/step\n"
          ]
        }
      ],
      "source": [
        "y_pred=model.predict(test_images)"
      ]
    },
    {
      "cell_type": "code",
      "execution_count": 62,
      "id": "25879506",
      "metadata": {
        "colab": {
          "base_uri": "https://localhost:8080/"
        },
        "id": "25879506",
        "outputId": "d0b9ab2b-22e1-4d58-9f3e-36a415cd89c8"
      },
      "outputs": [
        {
          "output_type": "execute_result",
          "data": {
            "text/plain": [
              "0.8459286112660346"
            ]
          },
          "metadata": {},
          "execution_count": 62
        }
      ],
      "source": [
        "from sklearn.metrics import accuracy_score\n",
        "\n",
        "accuracy_score(test_labels, y_pred.round())"
      ]
    }
  ],
  "metadata": {
    "kernelspec": {
      "display_name": "Python 3 (ipykernel)",
      "language": "python",
      "name": "python3"
    },
    "language_info": {
      "codemirror_mode": {
        "name": "ipython",
        "version": 3
      },
      "file_extension": ".py",
      "mimetype": "text/x-python",
      "name": "python",
      "nbconvert_exporter": "python",
      "pygments_lexer": "ipython3",
      "version": "3.9.12"
    },
    "colab": {
      "provenance": []
    }
  },
  "nbformat": 4,
  "nbformat_minor": 5
}